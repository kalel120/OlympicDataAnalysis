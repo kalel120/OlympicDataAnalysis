{
 "cells": [
  {
   "cell_type": "markdown",
   "metadata": {
    "application/vnd.databricks.v1+cell": {
     "cellMetadata": {
      "byteLimit": 2048000,
      "rowLimit": 10000
     },
     "inputWidgets": {},
     "nuid": "63710a65-0d1b-459e-bd3f-b6b56a05d547",
     "showTitle": false,
     "tableResultSettingsMap": {},
     "title": ""
    }
   },
   "source": [
    "### Create connection with azure datalake storage"
   ]
  },
  {
   "cell_type": "markdown",
   "metadata": {
    "application/vnd.databricks.v1+cell": {
     "cellMetadata": {
      "byteLimit": 2048000,
      "rowLimit": 10000
     },
     "inputWidgets": {},
     "nuid": "1c3dde33-6ee2-476e-b3eb-0494149a700d",
     "showTitle": false,
     "tableResultSettingsMap": {},
     "title": ""
    }
   },
   "source": [
    "### Steps\n",
    "- Connection between Azure databricks and ADLS through Azure _**App registration**_\n",
    "- Just register and app using that service\n",
    "- Make a copy of appId and tenantId\n",
    "- Through **certificate and secrets**, add a client secret\n",
    "- Make a copy of secret_value\n",
    "- Through **IAM**, add a role assignment\n",
    "- Storage Blob Data Contributor\n",
    "- Member should be the app created earlier"
   ]
  },
  {
   "cell_type": "code",
   "execution_count": 0,
   "metadata": {
    "application/vnd.databricks.v1+cell": {
     "cellMetadata": {
      "byteLimit": 2048000,
      "rowLimit": 10000
     },
     "inputWidgets": {},
     "nuid": "1e7707c1-b312-4e9b-977a-767842a6c3ae",
     "showTitle": false,
     "tableResultSettingsMap": {},
     "title": ""
    }
   },
   "outputs": [],
   "source": [
    "# Create the configs\n",
    "\n",
    "CLIENT_ID:str = dbutils.secrets.get(scope=\"tokyo-olympic-secret-scope\", key=\"client-id\")\n",
    "SECRET_ID:str = dbutils.secrets.get(scope=\"tokyo-olympic-secret-scope\", key=\"secret-id\")\n",
    "TENANT_ID:str = dbutils.secrets.get(scope=\"tokyo-olympic-secret-scope\", key=\"tenant-id\")\n",
    "\n",
    "configs = {\n",
    "    \"fs.azure.account.auth.type\": \"OAuth\"\n",
    "    ,\"fs.azure.account.oauth.provider.type\": \"org.apache.hadoop.fs.azurebfs.oauth2.ClientCredsTokenProvider\"\n",
    "    ,\"fs.azure.account.oauth2.client.id\": CLIENT_ID\n",
    "    ,\"fs.azure.account.oauth2.client.secret\": SECRET_ID\n",
    "    ,\"fs.azure.account.oauth2.client.endpoint\": f\"https://login.microsoftonline.com/{TENANT_ID}/oauth2/token\"\n",
    "}"
   ]
  },
  {
   "cell_type": "code",
   "execution_count": 0,
   "metadata": {
    "application/vnd.databricks.v1+cell": {
     "cellMetadata": {
      "byteLimit": 2048000,
      "rowLimit": 10000
     },
     "inputWidgets": {},
     "nuid": "8e84c2bb-cdf3-431a-b9ab-a1551e03b2e0",
     "showTitle": false,
     "tableResultSettingsMap": {},
     "title": ""
    }
   },
   "outputs": [],
   "source": [
    "# create the mounting point\n",
    "# on the mounting source url, first part is the CONTAINER name\n",
    "# second part is the STORAGE ACCOUNT name\n",
    "\n",
    "mount_point = \"/mnt/tokyo-olympic-data\"\n",
    "\n",
    "if not any(mount.mountPoint == mount_point for mount in dbutils.fs.mounts()):\n",
    "    dbutils.fs.mount(\n",
    "        source = \"abfss://tokyo-olympic-data@mimran2021olympicdata.dfs.core.windows.net\"\n",
    "        ,mount_point=mount_point\n",
    "        ,extra_configs = configs\n",
    "    )"
   ]
  },
  {
   "cell_type": "code",
   "execution_count": 0,
   "metadata": {
    "application/vnd.databricks.v1+cell": {
     "cellMetadata": {
      "byteLimit": 2048000,
      "rowLimit": 10000
     },
     "inputWidgets": {},
     "nuid": "fedf9cc1-7cdc-42bf-b113-367d8b3463ec",
     "showTitle": false,
     "tableResultSettingsMap": {},
     "title": ""
    }
   },
   "outputs": [],
   "source": [
    "%fs\n",
    "ls \"mnt/tokyo-olympic-data/\""
   ]
  },
  {
   "cell_type": "markdown",
   "metadata": {
    "application/vnd.databricks.v1+cell": {
     "cellMetadata": {
      "byteLimit": 2048000,
      "rowLimit": 10000
     },
     "inputWidgets": {},
     "nuid": "1bfac165-b24a-4dc6-9321-8460208bf8cf",
     "showTitle": false,
     "tableResultSettingsMap": {},
     "title": ""
    }
   },
   "source": [
    "### Reading files form mounted location"
   ]
  },
  {
   "cell_type": "code",
   "execution_count": 0,
   "metadata": {
    "application/vnd.databricks.v1+cell": {
     "cellMetadata": {
      "byteLimit": 2048000,
      "rowLimit": 10000
     },
     "inputWidgets": {},
     "nuid": "3ce42873-90f8-4b30-8412-198c3ddb2afa",
     "showTitle": false,
     "tableResultSettingsMap": {},
     "title": ""
    }
   },
   "outputs": [],
   "source": [
    "from pyspark.sql.functions import col, round, format_number\n",
    "from pyspark.sql.types import IntegerType, DoubleType, BooleanType, DateType"
   ]
  },
  {
   "cell_type": "code",
   "execution_count": 0,
   "metadata": {
    "application/vnd.databricks.v1+cell": {
     "cellMetadata": {
      "byteLimit": 2048000,
      "rowLimit": 10000
     },
     "inputWidgets": {},
     "nuid": "de60d182-9f22-490d-b913-34153c3ae9fa",
     "showTitle": false,
     "tableResultSettingsMap": {},
     "title": ""
    }
   },
   "outputs": [],
   "source": [
    "# In databricks, we don't have to build spark session. Spark session gets auto create\n",
    "# It can be checked by writing \"spark\"\n",
    "\n",
    "# accessing csv  data from storage container\n",
    "athletes = spark.read.format(\"csv\").option(\"header\",\"true\").load(\"/mnt/tokyo-olympic-data/raw-data/athletes.csv\")\n",
    "coaches = spark.read.format(\"csv\").option(\"header\",\"true\").load(\"/mnt/tokyo-olympic-data/raw-data/coaches.csv\")\n",
    "gender_entries = spark.read.format(\"csv\").option(\"header\",\"true\").load(\"/mnt/tokyo-olympic-data/raw-data/gender_entries.csv\")\n",
    "medals = spark.read.format(\"csv\").option(\"header\",\"true\").option(\"inferSchema\",\"true\").load(\"/mnt/tokyo-olympic-data/raw-data/medals.csv\")\n",
    "teams = spark.read.format(\"csv\").option(\"header\",\"true\").option(\"inferSchema\",\"true\").load(\"/mnt/tokyo-olympic-data/raw-data/teams.csv\")"
   ]
  },
  {
   "cell_type": "code",
   "execution_count": 0,
   "metadata": {
    "application/vnd.databricks.v1+cell": {
     "cellMetadata": {
      "byteLimit": 2048000,
      "rowLimit": 10000
     },
     "inputWidgets": {},
     "nuid": "c4d11c06-84da-446c-8a90-800e9ca1e634",
     "showTitle": false,
     "tableResultSettingsMap": {},
     "title": ""
    }
   },
   "outputs": [],
   "source": [
    "# Checking spark jobs\n",
    "athletes.printSchema()\n",
    "gender_entries.printSchema()"
   ]
  },
  {
   "cell_type": "code",
   "execution_count": 0,
   "metadata": {
    "application/vnd.databricks.v1+cell": {
     "cellMetadata": {
      "byteLimit": 2048000,
      "rowLimit": 10000
     },
     "inputWidgets": {},
     "nuid": "a7165566-f1ed-41ad-922d-3673d21683d0",
     "showTitle": false,
     "tableResultSettingsMap": {},
     "title": ""
    }
   },
   "outputs": [],
   "source": [
    "# Basic transformation\n",
    "# transforming female column data into int data type\n",
    "gender_entries = gender_entries.withColumn(\"Female\", col(\"Female\").cast(IntegerType()))\\\n",
    "    .withColumn(\"Male\", col(\"Male\").cast(IntegerType()))\\\n",
    "    .withColumn(\"Total\", col(\"Total\").cast(IntegerType()))\n",
    "\n",
    "gender_entries.printSchema()\n",
    "\n",
    "# InferSchema is used on medal and teams dataFrames\n",
    "medals.printSchema()\n",
    "teams.printSchema()\n",
    "medals.show()"
   ]
  },
  {
   "cell_type": "code",
   "execution_count": 0,
   "metadata": {
    "application/vnd.databricks.v1+cell": {
     "cellMetadata": {
      "byteLimit": 2048000,
      "rowLimit": 10000
     },
     "inputWidgets": {},
     "nuid": "a3d28c9a-78db-4521-90c5-43796fba495a",
     "showTitle": false,
     "tableResultSettingsMap": {},
     "title": ""
    }
   },
   "outputs": [],
   "source": [
    "# Basic seletion and ordering\n",
    "top_gold_medals = medals.orderBy(\"Total\").select(\"Team/NOC\",\"Total\",\"Rank by Total\")\\\n",
    "                    .show()"
   ]
  },
  {
   "cell_type": "code",
   "execution_count": 0,
   "metadata": {
    "application/vnd.databricks.v1+cell": {
     "cellMetadata": {
      "byteLimit": 2048000,
      "rowLimit": 10000
     },
     "inputWidgets": {},
     "nuid": "d1b87f31-c5d9-4c1a-bcd8-77d8898ddaa2",
     "showTitle": false,
     "tableResultSettingsMap": {},
     "title": ""
    }
   },
   "outputs": [],
   "source": [
    "# calculating average number of entries by gender for each discipline\n",
    "avg_by_gender = gender_entries.withColumn(\n",
    "    \"Avg_Female\", format_number(col(\"Female\")/ col(\"Total\"),3)\n",
    "    )\\\n",
    "    .withColumn(\n",
    "        \"Avg_Male\", format_number(col(\"Male\")/ col(\"Total\"),3)\n",
    "    )\n",
    "\n",
    "avg_by_gender.show()"
   ]
  },
  {
   "cell_type": "code",
   "execution_count": 0,
   "metadata": {
    "application/vnd.databricks.v1+cell": {
     "cellMetadata": {
      "byteLimit": 2048000,
      "rowLimit": 10000
     },
     "inputWidgets": {},
     "nuid": "11e54898-4930-4555-941a-f6c07030b296",
     "showTitle": false,
     "tableResultSettingsMap": {},
     "title": ""
    }
   },
   "outputs": [],
   "source": [
    "# exporting location -> /mnt/tokyo-olympic-data/transformed-data/\n",
    "avg_by_gender.write.mode(\"overwrite\")\\\n",
    "        .option(\"header\",\"true\")\\\n",
    "        .option(\"quoteAll\",\"true\")\\\n",
    "        .csv(\"/mnt/tokyo-olympic-data/transformed-data/avg_by_gender\")"
   ]
  },
  {
   "cell_type": "code",
   "execution_count": 0,
   "metadata": {
    "application/vnd.databricks.v1+cell": {
     "cellMetadata": {
      "byteLimit": 2048000,
      "rowLimit": 10000
     },
     "inputWidgets": {},
     "nuid": "411908a9-8a23-46ed-a826-eb06d3826091",
     "showTitle": false,
     "tableResultSettingsMap": {},
     "title": ""
    }
   },
   "outputs": [],
   "source": [
    "# exporting into a single file\n",
    "athletes.repartition(1).write.mode(\"overwrite\")\\\n",
    "        .option(\"header\", \"true\")\\\n",
    "        .option(\"quoteAll\", \"true\")\\\n",
    "        .csv(\"/mnt/tokyo-olympic-data/transformed-data/athletes\")\n",
    "\n",
    "coaches.repartition(1).write.mode(\"overwrite\")\\\n",
    "        .option(\"header\", \"true\")\\\n",
    "        .option(\"quoteAll\",\"true\")\\\n",
    "        .csv(\"/mnt/tokyo-olympic-data/transformed-data/coaches\")\n",
    "\n",
    "gender_entries.repartition(1).write.mode(\"overwrite\")\\\n",
    "        .option(\"header\", \"true\")\\\n",
    "        .option(\"quoteAll\",\"true\")\\\n",
    "        .csv(\"/mnt/tokyo-olympic-data/transformed-data/gender_entries\")\n",
    "\n",
    "medals.repartition(1).write.mode(\"overwrite\")\\\n",
    "        .option(\"header\",\"true\")\\\n",
    "        .option(\"quoteAll\",\"true\")\\\n",
    "        .csv(\"/mnt/tokyo-olympic-data/transformed-data/medals\")\n",
    "\n",
    "teams.repartition(1).write.mode(\"overwrite\")\\\n",
    "        .option(\"header\",\"true\")\\\n",
    "        .option(\"quoteAll\",\"true\")\\\n",
    "        .csv(\"/mnt/tokyo-olympic-data/transformed-data/teams\")"
   ]
  }
 ],
 "metadata": {
  "application/vnd.databricks.v1+notebook": {
   "computePreferences": null,
   "dashboards": [],
   "environmentMetadata": {
    "base_environment": "",
    "environment_version": "2"
   },
   "inputWidgetPreferences": null,
   "language": "python",
   "notebookMetadata": {
    "mostRecentlyExecutedCommandWithImplicitDF": {
     "commandId": 5900551840568111,
     "dataframes": [
      "_sqldf"
     ]
    },
    "pythonIndentUnit": 4
   },
   "notebookName": "Tokyo Olympic Data Transformation",
   "widgets": {}
  },
  "language_info": {
   "name": "python"
  }
 },
 "nbformat": 4,
 "nbformat_minor": 0
}
